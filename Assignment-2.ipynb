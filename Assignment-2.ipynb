{
 "cells": [
  {
   "cell_type": "markdown",
   "id": "0abf8397-34a5-420b-b02f-76dd25d9697e",
   "metadata": {},
   "source": [
    "Q1. How do you comment code in Python? What are the different types of comments?"
   ]
  },
  {
   "cell_type": "code",
   "execution_count": 2,
   "id": "08927546-3286-49e5-89d5-2d5362fd8a14",
   "metadata": {},
   "outputs": [],
   "source": [
    "##Single-line comments: These are comments that occupy only one line and are typically used for short explanations or notes. In Python, you can create a single-line comment by prefixing a line with the # character. Anything following the # on the same line is considered a comment."
   ]
  },
  {
   "cell_type": "code",
   "execution_count": 1,
   "id": "060e64e5-1c26-4008-96f8-aa3053ef9f25",
   "metadata": {},
   "outputs": [
    {
     "name": "stdout",
     "output_type": "stream",
     "text": [
      "Hello, World!\n"
     ]
    }
   ],
   "source": [
    "print(\"Hello, World!\")"
   ]
  },
  {
   "cell_type": "code",
   "execution_count": 4,
   "id": "bed59700-7cad-4e54-86e2-cfac6b8c8c31",
   "metadata": {},
   "outputs": [],
   "source": [
    "##Multi-line comments (docstrings): Python does not have a dedicated syntax for multi-line comments like some other programming languages. Instead, you can use multi-line strings, known as docstrings, to document modules, functions, classes, or methods. These docstrings are placed within triple-quotes (''' or \"\"\") and are often used for more extensive explanations."
   ]
  },
  {
   "cell_type": "code",
   "execution_count": null,
   "id": "12b5ddc7-a39c-46ea-9e3f-922d0ee2333f",
   "metadata": {},
   "outputs": [],
   "source": []
  },
  {
   "cell_type": "markdown",
   "id": "52fe5789-65d1-4e64-8527-378f30958113",
   "metadata": {},
   "source": [
    "Q2. What are variables in Python? How do you declare and assign values to variables?"
   ]
  },
  {
   "cell_type": "code",
   "execution_count": null,
   "id": "78eed3ff-6245-4ecc-bba0-018381f237e4",
   "metadata": {},
   "outputs": [],
   "source": [
    "##Ans.\n",
    "In Python, variables are used to store data or values. Variables are essentially labels or names that you assign to specific pieces of data, allowing you to work with and manipulate that data within your program. You can think of variables as containers that hold different types of information, such as numbers, text, lists, or objects."
   ]
  },
  {
   "cell_type": "code",
   "execution_count": 15,
   "id": "4d49be64-f578-4058-a3d6-b2ae8227f8db",
   "metadata": {},
   "outputs": [],
   "source": [
    "age = \"22\"\n",
    "name = \"Kaushal\""
   ]
  },
  {
   "cell_type": "code",
   "execution_count": null,
   "id": "d7c83f58-a1be-44dd-b5c7-1022a363d93b",
   "metadata": {},
   "outputs": [],
   "source": []
  },
  {
   "cell_type": "markdown",
   "id": "2db2c87a-55e5-4604-992e-56aa33e3dbdd",
   "metadata": {},
   "source": [
    "Q3. How do you convert one data type to another in Python?"
   ]
  },
  {
   "cell_type": "code",
   "execution_count": 16,
   "id": "1b6335bf-ab75-47ac-8e05-a7e0e5f36dc5",
   "metadata": {},
   "outputs": [],
   "source": [
    "num_str = \"123\"\n",
    "num_int = int(num_str)     \n",
    "num_float = float(num_str)"
   ]
  },
  {
   "cell_type": "code",
   "execution_count": null,
   "id": "6b8b9679-b52f-46c4-8ca0-f6929a5080bd",
   "metadata": {},
   "outputs": [],
   "source": []
  },
  {
   "cell_type": "markdown",
   "id": "d2ef1476-acb3-4c66-b97c-4cdc554b0dd5",
   "metadata": {},
   "source": [
    "Q4. How do you write and execute a Python script from the command line?"
   ]
  },
  {
   "cell_type": "code",
   "execution_count": 1,
   "id": "5c596ac3-bda5-4d28-855e-09736dc2aa4b",
   "metadata": {},
   "outputs": [
    {
     "name": "stdout",
     "output_type": "stream",
     "text": [
      "my name is kaushal\n"
     ]
    }
   ],
   "source": [
    "print (\"my name is kaushal\")"
   ]
  },
  {
   "cell_type": "code",
   "execution_count": null,
   "id": "475a8a2f-f204-4f41-b02f-111ea4aaf6a6",
   "metadata": {},
   "outputs": [],
   "source": []
  },
  {
   "cell_type": "markdown",
   "id": "bfb0bbde-e9ef-492c-a97e-d93cd3fc6930",
   "metadata": {},
   "source": [
    "Q5. Given a list my_list = [1, 2, 3, 4, 5], write the code to slice the list and obtain the sub-list [2, 3]."
   ]
  },
  {
   "cell_type": "code",
   "execution_count": 3,
   "id": "1c11a30e-4918-4611-9441-65a2af82ec25",
   "metadata": {},
   "outputs": [
    {
     "name": "stdout",
     "output_type": "stream",
     "text": [
      "[2, 3]\n"
     ]
    }
   ],
   "source": [
    "my_list = [1, 2, 3, 4, 5]\n",
    "sub_list = my_list[1:3]\n",
    "print(sub_list)"
   ]
  },
  {
   "cell_type": "code",
   "execution_count": null,
   "id": "3738c178-1bcc-4456-b0f4-11d991ea31c9",
   "metadata": {},
   "outputs": [],
   "source": []
  },
  {
   "cell_type": "markdown",
   "id": "b26a93cc-8bf8-42ef-a7d6-9c856d4bd31b",
   "metadata": {},
   "source": [
    "Q6. What is a complex number in mathematics, and how is it represented in Python?"
   ]
  },
  {
   "cell_type": "code",
   "execution_count": 5,
   "id": "4fab567e-3d43-4df0-b010-b2aff7f7c19e",
   "metadata": {},
   "outputs": [],
   "source": [
    "l1 = complex(2, 3)\n",
    "l2 = 1.5 + 2j\n",
    "l3 = -3.7 - 1.2j"
   ]
  },
  {
   "cell_type": "code",
   "execution_count": null,
   "id": "34430b45-c970-4b12-b2c5-f9fc5d5b3612",
   "metadata": {},
   "outputs": [],
   "source": []
  },
  {
   "cell_type": "markdown",
   "id": "3057ddcc-d049-44ba-9a25-a12cd5e4f61a",
   "metadata": {},
   "source": [
    "Q7. What is the correct way to declare a variable named age and assign the value 25 to it?"
   ]
  },
  {
   "cell_type": "code",
   "execution_count": 10,
   "id": "6830b982-0180-4e72-acbd-6d3cee6d73f1",
   "metadata": {},
   "outputs": [],
   "source": [
    "age=25"
   ]
  },
  {
   "cell_type": "code",
   "execution_count": 11,
   "id": "abcca697-c4fb-456c-91c2-b095006b7817",
   "metadata": {},
   "outputs": [
    {
     "data": {
      "text/plain": [
       "25"
      ]
     },
     "execution_count": 11,
     "metadata": {},
     "output_type": "execute_result"
    }
   ],
   "source": [
    "(age)"
   ]
  },
  {
   "cell_type": "code",
   "execution_count": null,
   "id": "8afe254b-856c-4867-8401-7d3804bff0ac",
   "metadata": {},
   "outputs": [],
   "source": []
  },
  {
   "cell_type": "markdown",
   "id": "578d3bd3-f287-472e-866f-b784d5f83bd5",
   "metadata": {},
   "source": [
    "Q8. Declare a variable named price and assign the value 9.99 to it. What data type does this variable\n",
    "belong to?"
   ]
  },
  {
   "cell_type": "code",
   "execution_count": 12,
   "id": "11185a9b-9273-4670-a3b3-cdff4c5d387f",
   "metadata": {},
   "outputs": [],
   "source": [
    "price = 9.99"
   ]
  },
  {
   "cell_type": "code",
   "execution_count": 13,
   "id": "2d6ac352-e51d-45a0-9416-849d99052036",
   "metadata": {},
   "outputs": [
    {
     "data": {
      "text/plain": [
       "9.99"
      ]
     },
     "execution_count": 13,
     "metadata": {},
     "output_type": "execute_result"
    }
   ],
   "source": [
    "(price)"
   ]
  },
  {
   "cell_type": "code",
   "execution_count": 14,
   "id": "092fb735-dda6-4d7a-b5b2-e94092bb56f3",
   "metadata": {},
   "outputs": [
    {
     "data": {
      "text/plain": [
       "float"
      ]
     },
     "execution_count": 14,
     "metadata": {},
     "output_type": "execute_result"
    }
   ],
   "source": [
    "type(price)"
   ]
  },
  {
   "cell_type": "code",
   "execution_count": null,
   "id": "c6c12bc8-0ba2-4f6b-a3cf-c8927d79d859",
   "metadata": {},
   "outputs": [],
   "source": []
  },
  {
   "cell_type": "markdown",
   "id": "1ad6c861-f991-42cc-bbfc-ebf046ebd2da",
   "metadata": {},
   "source": [
    "Q9. Create a variable named name and assign your full name to it as a string. How would you print the\n",
    "value of this variable?"
   ]
  },
  {
   "cell_type": "code",
   "execution_count": 15,
   "id": "c7aef5bf-ec1f-4ee0-9713-94c34cfa6153",
   "metadata": {},
   "outputs": [],
   "source": [
    "name = \"kaushal khandu gadge\""
   ]
  },
  {
   "cell_type": "code",
   "execution_count": 16,
   "id": "55d969ea-5e86-47d1-b79e-a87f59b79676",
   "metadata": {},
   "outputs": [
    {
     "name": "stdout",
     "output_type": "stream",
     "text": [
      "kaushal khandu gadge\n"
     ]
    }
   ],
   "source": [
    "print(name)"
   ]
  },
  {
   "cell_type": "code",
   "execution_count": null,
   "id": "4490bc9f-09c2-4af2-b8e6-edc37e462567",
   "metadata": {},
   "outputs": [],
   "source": []
  },
  {
   "cell_type": "markdown",
   "id": "e8079742-16cf-4a9b-93af-a50d04407804",
   "metadata": {},
   "source": [
    "Q10. Given the string \"Hello, World!\", extract the substring \"World\"."
   ]
  },
  {
   "cell_type": "code",
   "execution_count": 17,
   "id": "2c589cf6-3326-4af0-9c41-41739b04598e",
   "metadata": {},
   "outputs": [
    {
     "name": "stdout",
     "output_type": "stream",
     "text": [
      "World\n"
     ]
    }
   ],
   "source": [
    "original_string = \"Hello, World!\"\n",
    "substring = original_string[7:12]\n",
    "print(substring)"
   ]
  },
  {
   "cell_type": "code",
   "execution_count": null,
   "id": "d6070fbc-a9d4-4077-af0a-75d4f9dd72e7",
   "metadata": {},
   "outputs": [],
   "source": []
  },
  {
   "cell_type": "code",
   "execution_count": null,
   "id": "907c4042-208e-4bcd-8ea8-a27ad0c5297b",
   "metadata": {},
   "outputs": [],
   "source": []
  },
  {
   "cell_type": "code",
   "execution_count": null,
   "id": "ea00b44c-3cda-41a3-8bb2-d8bbf12599d3",
   "metadata": {},
   "outputs": [],
   "source": []
  },
  {
   "cell_type": "code",
   "execution_count": null,
   "id": "81e477fc-79cb-4307-bb4d-beccd645128b",
   "metadata": {},
   "outputs": [],
   "source": []
  },
  {
   "cell_type": "code",
   "execution_count": null,
   "id": "d3aba778-9573-464c-a6f1-0fae9fc72053",
   "metadata": {},
   "outputs": [],
   "source": []
  },
  {
   "cell_type": "code",
   "execution_count": null,
   "id": "03a9fdf0-3853-4b77-ad1e-22dae87e13d8",
   "metadata": {},
   "outputs": [],
   "source": []
  }
 ],
 "metadata": {
  "kernelspec": {
   "display_name": "Python 3 (ipykernel)",
   "language": "python",
   "name": "python3"
  },
  "language_info": {
   "codemirror_mode": {
    "name": "ipython",
    "version": 3
   },
   "file_extension": ".py",
   "mimetype": "text/x-python",
   "name": "python",
   "nbconvert_exporter": "python",
   "pygments_lexer": "ipython3",
   "version": "3.10.8"
  }
 },
 "nbformat": 4,
 "nbformat_minor": 5
}
